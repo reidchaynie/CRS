{
 "cells": [
  {
   "cell_type": "markdown",
   "id": "63564212",
   "metadata": {},
   "source": [
    "# Feature importance in predicting customer retention by first-order experience"
   ]
  },
  {
   "cell_type": "code",
   "execution_count": 1,
   "id": "0f83f361",
   "metadata": {},
   "outputs": [],
   "source": [
    "import pandas as pd\n",
    "import numpy as np\n",
    "import xgboost as xgb\n",
    "from sklearn.model_selection import train_test_split\n",
    "import shap\n",
    "from pathlib import Path\n",
    "import matplotlib.pyplot as plt\n",
    "from sklearn.pipeline import Pipeline\n",
    "from category_encoders.target_encoder import TargetEncoder\n",
    "from xgboost import XGBClassifier"
   ]
  },
  {
   "cell_type": "code",
   "execution_count": 2,
   "id": "1c1c8b27",
   "metadata": {},
   "outputs": [
    {
     "data": {
      "text/html": [
       "<div>\n",
       "<style scoped>\n",
       "    .dataframe tbody tr th:only-of-type {\n",
       "        vertical-align: middle;\n",
       "    }\n",
       "\n",
       "    .dataframe tbody tr th {\n",
       "        vertical-align: top;\n",
       "    }\n",
       "\n",
       "    .dataframe thead th {\n",
       "        text-align: right;\n",
       "    }\n",
       "</style>\n",
       "<table border=\"1\" class=\"dataframe\">\n",
       "  <thead>\n",
       "    <tr style=\"text-align: right;\">\n",
       "      <th></th>\n",
       "      <th>CustomerRetained</th>\n",
       "      <th>2022Score</th>\n",
       "      <th>isgorgeousbox</th>\n",
       "      <th>ProductCategory</th>\n",
       "      <th>relationtoavg_category_price</th>\n",
       "    </tr>\n",
       "  </thead>\n",
       "  <tbody>\n",
       "    <tr>\n",
       "      <th>0</th>\n",
       "      <td>False</td>\n",
       "      <td>49.0</td>\n",
       "      <td>False</td>\n",
       "      <td>NaN</td>\n",
       "      <td>NaN</td>\n",
       "    </tr>\n",
       "    <tr>\n",
       "      <th>1</th>\n",
       "      <td>True</td>\n",
       "      <td>43.0</td>\n",
       "      <td>True</td>\n",
       "      <td>Stromboli</td>\n",
       "      <td>less</td>\n",
       "    </tr>\n",
       "    <tr>\n",
       "      <th>2</th>\n",
       "      <td>False</td>\n",
       "      <td>38.0</td>\n",
       "      <td>True</td>\n",
       "      <td>NaN</td>\n",
       "      <td>NaN</td>\n",
       "    </tr>\n",
       "    <tr>\n",
       "      <th>3</th>\n",
       "      <td>True</td>\n",
       "      <td>50.0</td>\n",
       "      <td>False</td>\n",
       "      <td>Savory Toppings, Condiments &amp; Spreads</td>\n",
       "      <td>more</td>\n",
       "    </tr>\n",
       "    <tr>\n",
       "      <th>4</th>\n",
       "      <td>False</td>\n",
       "      <td>49.0</td>\n",
       "      <td>True</td>\n",
       "      <td>NaN</td>\n",
       "      <td>NaN</td>\n",
       "    </tr>\n",
       "  </tbody>\n",
       "</table>\n",
       "</div>"
      ],
      "text/plain": [
       "   CustomerRetained  2022Score  isgorgeousbox  \\\n",
       "0             False       49.0          False   \n",
       "1              True       43.0           True   \n",
       "2             False       38.0           True   \n",
       "3              True       50.0          False   \n",
       "4             False       49.0           True   \n",
       "\n",
       "                         ProductCategory relationtoavg_category_price  \n",
       "0                                    NaN                          NaN  \n",
       "1                              Stromboli                         less  \n",
       "2                                    NaN                          NaN  \n",
       "3  Savory Toppings, Condiments & Spreads                         more  \n",
       "4                                    NaN                          NaN  "
      ]
     },
     "execution_count": 2,
     "metadata": {},
     "output_type": "execute_result"
    }
   ],
   "source": [
    "crs = pd.read_csv('~/Desktop/2023_retention_by_crs.csv')\n",
    "\n",
    "crs.columns =crs.columns.str.replace(' ', '')\n",
    "\n",
    "crs = crs[['CustomerRetained','2022Score','isgorgeousbox','ProductCategory','relationtoavg_category_price']]\n",
    "\n",
    "crs.head()"
   ]
  },
  {
   "cell_type": "markdown",
   "id": "02d54412",
   "metadata": {},
   "source": [
    "## Convert dtypes\n"
   ]
  },
  {
   "cell_type": "code",
   "execution_count": 3,
   "id": "5134bf32",
   "metadata": {},
   "outputs": [],
   "source": [
    "# Convert the categorical columns to category data type\n",
    "\n",
    "categorical_columns = ['2022Score','ProductCategory','relationtoavg_category_price']\n",
    "\n",
    "for col in categorical_columns:\n",
    "    crs[col] = crs[col].astype(\"category\")\n",
    "\n",
    "\n",
    "# Convert the boolean columns to bool data type    \n",
    "bool_columns = ['CustomerRetained','isgorgeousbox']\n",
    "\n",
    "for col in bool_columns:\n",
    "    crs[col] = crs[col].astype('bool')"
   ]
  },
  {
   "cell_type": "markdown",
   "id": "f274a5d7",
   "metadata": {},
   "source": [
    "# Split data\n"
   ]
  },
  {
   "cell_type": "code",
   "execution_count": 4,
   "id": "b1d8bb21",
   "metadata": {},
   "outputs": [
    {
     "data": {
      "text/plain": [
       "[(53343, 5), (53343, 5), (53343, 5), (53343, 5)]"
      ]
     },
     "execution_count": 4,
     "metadata": {},
     "output_type": "execute_result"
    }
   ],
   "source": [
    "X = crs.drop(columns='CustomerRetained')\n",
    "y = crs.CustomerRetained\n",
    "\n",
    "X_train, X_test, y_train,y_test = train_test_split(X,y,test_size = 0.2, stratify = y, random_state = 8)\n",
    "\n",
    "\n",
    "\n",
    "[crs.shape for nps in (X_train, X_test, y_train, y_test)]"
   ]
  },
  {
   "cell_type": "code",
   "execution_count": 5,
   "id": "86b66fc4",
   "metadata": {},
   "outputs": [],
   "source": [
    "estimators = [\n",
    "    ('encoder',TargetEncoder()),\n",
    "    ('clf',XGBClassifier(random_state=8))\n",
    "]\n",
    "\n",
    "\n",
    "pipe = Pipeline(steps=estimators)"
   ]
  },
  {
   "cell_type": "code",
   "execution_count": 9,
   "id": "7f4adb11",
   "metadata": {},
   "outputs": [
    {
     "name": "stdout",
     "output_type": "stream",
     "text": [
      "[0]\tvalidation_0-auc:0.55259\n",
      "[1]\tvalidation_0-auc:0.55192\n",
      "[2]\tvalidation_0-auc:0.55187\n",
      "[3]\tvalidation_0-auc:0.55279\n",
      "[4]\tvalidation_0-auc:0.55356\n",
      "[5]\tvalidation_0-auc:0.55336\n",
      "[6]\tvalidation_0-auc:0.55300\n",
      "[7]\tvalidation_0-auc:0.55343\n",
      "[8]\tvalidation_0-auc:0.55425\n",
      "[9]\tvalidation_0-auc:0.55359\n",
      "[10]\tvalidation_0-auc:0.55361\n",
      "[11]\tvalidation_0-auc:0.55414\n",
      "[12]\tvalidation_0-auc:0.55446\n",
      "[13]\tvalidation_0-auc:0.55433\n",
      "[14]\tvalidation_0-auc:0.55456\n",
      "[15]\tvalidation_0-auc:0.55415\n",
      "[16]\tvalidation_0-auc:0.55425\n",
      "[17]\tvalidation_0-auc:0.55452\n",
      "[18]\tvalidation_0-auc:0.55461\n",
      "[19]\tvalidation_0-auc:0.55464\n",
      "[20]\tvalidation_0-auc:0.55474\n",
      "[21]\tvalidation_0-auc:0.55470\n",
      "[22]\tvalidation_0-auc:0.55491\n",
      "[23]\tvalidation_0-auc:0.55536\n",
      "[24]\tvalidation_0-auc:0.55556\n",
      "[25]\tvalidation_0-auc:0.55554\n",
      "[26]\tvalidation_0-auc:0.55559\n",
      "[27]\tvalidation_0-auc:0.55552\n",
      "[28]\tvalidation_0-auc:0.55560\n",
      "[29]\tvalidation_0-auc:0.55547\n",
      "[30]\tvalidation_0-auc:0.55546\n",
      "[31]\tvalidation_0-auc:0.55557\n",
      "[32]\tvalidation_0-auc:0.55556\n",
      "[33]\tvalidation_0-auc:0.55562\n",
      "[34]\tvalidation_0-auc:0.55570\n",
      "[35]\tvalidation_0-auc:0.55577\n",
      "[36]\tvalidation_0-auc:0.55553\n",
      "[37]\tvalidation_0-auc:0.55548\n",
      "[38]\tvalidation_0-auc:0.55556\n",
      "[39]\tvalidation_0-auc:0.55554\n",
      "[40]\tvalidation_0-auc:0.55554\n",
      "[41]\tvalidation_0-auc:0.55555\n",
      "[42]\tvalidation_0-auc:0.55546\n",
      "[43]\tvalidation_0-auc:0.55550\n",
      "[44]\tvalidation_0-auc:0.55566\n"
     ]
    },
    {
     "data": {
      "text/html": [
       "<style>#sk-container-id-4 {color: black;background-color: white;}#sk-container-id-4 pre{padding: 0;}#sk-container-id-4 div.sk-toggleable {background-color: white;}#sk-container-id-4 label.sk-toggleable__label {cursor: pointer;display: block;width: 100%;margin-bottom: 0;padding: 0.3em;box-sizing: border-box;text-align: center;}#sk-container-id-4 label.sk-toggleable__label-arrow:before {content: \"▸\";float: left;margin-right: 0.25em;color: #696969;}#sk-container-id-4 label.sk-toggleable__label-arrow:hover:before {color: black;}#sk-container-id-4 div.sk-estimator:hover label.sk-toggleable__label-arrow:before {color: black;}#sk-container-id-4 div.sk-toggleable__content {max-height: 0;max-width: 0;overflow: hidden;text-align: left;background-color: #f0f8ff;}#sk-container-id-4 div.sk-toggleable__content pre {margin: 0.2em;color: black;border-radius: 0.25em;background-color: #f0f8ff;}#sk-container-id-4 input.sk-toggleable__control:checked~div.sk-toggleable__content {max-height: 200px;max-width: 100%;overflow: auto;}#sk-container-id-4 input.sk-toggleable__control:checked~label.sk-toggleable__label-arrow:before {content: \"▾\";}#sk-container-id-4 div.sk-estimator input.sk-toggleable__control:checked~label.sk-toggleable__label {background-color: #d4ebff;}#sk-container-id-4 div.sk-label input.sk-toggleable__control:checked~label.sk-toggleable__label {background-color: #d4ebff;}#sk-container-id-4 input.sk-hidden--visually {border: 0;clip: rect(1px 1px 1px 1px);clip: rect(1px, 1px, 1px, 1px);height: 1px;margin: -1px;overflow: hidden;padding: 0;position: absolute;width: 1px;}#sk-container-id-4 div.sk-estimator {font-family: monospace;background-color: #f0f8ff;border: 1px dotted black;border-radius: 0.25em;box-sizing: border-box;margin-bottom: 0.5em;}#sk-container-id-4 div.sk-estimator:hover {background-color: #d4ebff;}#sk-container-id-4 div.sk-parallel-item::after {content: \"\";width: 100%;border-bottom: 1px solid gray;flex-grow: 1;}#sk-container-id-4 div.sk-label:hover label.sk-toggleable__label {background-color: #d4ebff;}#sk-container-id-4 div.sk-serial::before {content: \"\";position: absolute;border-left: 1px solid gray;box-sizing: border-box;top: 0;bottom: 0;left: 50%;z-index: 0;}#sk-container-id-4 div.sk-serial {display: flex;flex-direction: column;align-items: center;background-color: white;padding-right: 0.2em;padding-left: 0.2em;position: relative;}#sk-container-id-4 div.sk-item {position: relative;z-index: 1;}#sk-container-id-4 div.sk-parallel {display: flex;align-items: stretch;justify-content: center;background-color: white;position: relative;}#sk-container-id-4 div.sk-item::before, #sk-container-id-4 div.sk-parallel-item::before {content: \"\";position: absolute;border-left: 1px solid gray;box-sizing: border-box;top: 0;bottom: 0;left: 50%;z-index: -1;}#sk-container-id-4 div.sk-parallel-item {display: flex;flex-direction: column;z-index: 1;position: relative;background-color: white;}#sk-container-id-4 div.sk-parallel-item:first-child::after {align-self: flex-end;width: 50%;}#sk-container-id-4 div.sk-parallel-item:last-child::after {align-self: flex-start;width: 50%;}#sk-container-id-4 div.sk-parallel-item:only-child::after {width: 0;}#sk-container-id-4 div.sk-dashed-wrapped {border: 1px dashed gray;margin: 0 0.4em 0.5em 0.4em;box-sizing: border-box;padding-bottom: 0.4em;background-color: white;}#sk-container-id-4 div.sk-label label {font-family: monospace;font-weight: bold;display: inline-block;line-height: 1.2em;}#sk-container-id-4 div.sk-label-container {text-align: center;}#sk-container-id-4 div.sk-container {/* jupyter's `normalize.less` sets `[hidden] { display: none; }` but bootstrap.min.css set `[hidden] { display: none !important; }` so we also need the `!important` here to be able to override the default hidden behavior on the sphinx rendered scikit-learn.org. See: https://github.com/scikit-learn/scikit-learn/issues/21755 */display: inline-block !important;position: relative;}#sk-container-id-4 div.sk-text-repr-fallback {display: none;}</style><div id=\"sk-container-id-4\" class=\"sk-top-container\"><div class=\"sk-text-repr-fallback\"><pre>XGBClassifier(base_score=None, booster=None, callbacks=None,\n",
       "              colsample_bylevel=None, colsample_bynode=None,\n",
       "              colsample_bytree=None, device=None, early_stopping_rounds=10,\n",
       "              enable_categorical=True, eval_metric=&#x27;auc&#x27;, feature_types=None,\n",
       "              gamma=None, grow_policy=None, importance_type=None,\n",
       "              interaction_constraints=None, learning_rate=None, max_bin=None,\n",
       "              max_cat_threshold=None, max_cat_to_onehot=None,\n",
       "              max_delta_step=None, max_depth=5, max_leaves=None,\n",
       "              min_child_weight=None, missing=nan, monotone_constraints=None,\n",
       "              multi_strategy=None, n_estimators=100, n_jobs=None,\n",
       "              num_parallel_tree=None, random_state=None, ...)</pre><b>In a Jupyter environment, please rerun this cell to show the HTML representation or trust the notebook. <br />On GitHub, the HTML representation is unable to render, please try loading this page with nbviewer.org.</b></div><div class=\"sk-container\" hidden><div class=\"sk-item\"><div class=\"sk-estimator sk-toggleable\"><input class=\"sk-toggleable__control sk-hidden--visually\" id=\"sk-estimator-id-4\" type=\"checkbox\" checked><label for=\"sk-estimator-id-4\" class=\"sk-toggleable__label sk-toggleable__label-arrow\">XGBClassifier</label><div class=\"sk-toggleable__content\"><pre>XGBClassifier(base_score=None, booster=None, callbacks=None,\n",
       "              colsample_bylevel=None, colsample_bynode=None,\n",
       "              colsample_bytree=None, device=None, early_stopping_rounds=10,\n",
       "              enable_categorical=True, eval_metric=&#x27;auc&#x27;, feature_types=None,\n",
       "              gamma=None, grow_policy=None, importance_type=None,\n",
       "              interaction_constraints=None, learning_rate=None, max_bin=None,\n",
       "              max_cat_threshold=None, max_cat_to_onehot=None,\n",
       "              max_delta_step=None, max_depth=5, max_leaves=None,\n",
       "              min_child_weight=None, missing=nan, monotone_constraints=None,\n",
       "              multi_strategy=None, n_estimators=100, n_jobs=None,\n",
       "              num_parallel_tree=None, random_state=None, ...)</pre></div></div></div></div></div>"
      ],
      "text/plain": [
       "XGBClassifier(base_score=None, booster=None, callbacks=None,\n",
       "              colsample_bylevel=None, colsample_bynode=None,\n",
       "              colsample_bytree=None, device=None, early_stopping_rounds=10,\n",
       "              enable_categorical=True, eval_metric='auc', feature_types=None,\n",
       "              gamma=None, grow_policy=None, importance_type=None,\n",
       "              interaction_constraints=None, learning_rate=None, max_bin=None,\n",
       "              max_cat_threshold=None, max_cat_to_onehot=None,\n",
       "              max_delta_step=None, max_depth=5, max_leaves=None,\n",
       "              min_child_weight=None, missing=nan, monotone_constraints=None,\n",
       "              multi_strategy=None, n_estimators=100, n_jobs=None,\n",
       "              num_parallel_tree=None, random_state=None, ...)"
      ]
     },
     "execution_count": 9,
     "metadata": {},
     "output_type": "execute_result"
    }
   ],
   "source": [
    "# Specify the model hyperparameters\n",
    "params={ 'objective': 'binary:logistic',\n",
    "        \"eval_metric\": \"auc\", #\"logloss\",\n",
    "        \"tree_method\": 'hist',\n",
    "        \"n_estimators\": 100,\n",
    "        \"max_depth\": 5,\n",
    "        \"early_stopping_rounds\": 10,\n",
    "        \"verbosity\": 1\n",
    "       }\n",
    "clf = xgb.XGBClassifier(**params, enable_categorical=True)\n",
    "clf.fit(X_train, y_train, eval_set=[(X_test, y_test)], verbose=True)\n",
    "# clf.save_model(Path(saved_models_path, f\"xgboost_categorical_model_{current_time}.json\"))"
   ]
  },
  {
   "cell_type": "markdown",
   "id": "ae253f83",
   "metadata": {},
   "source": []
  },
  {
   "cell_type": "code",
   "execution_count": 10,
   "id": "46c98e66",
   "metadata": {},
   "outputs": [
    {
     "data": {
      "text/plain": [
       "array([0.47825   , 0.18874498, 0.2988895 , 0.03411553], dtype=float32)"
      ]
     },
     "execution_count": 10,
     "metadata": {},
     "output_type": "execute_result"
    }
   ],
   "source": [
    "clf.feature_importances_\n"
   ]
  },
  {
   "cell_type": "code",
   "execution_count": 11,
   "id": "b24200be",
   "metadata": {},
   "outputs": [
    {
     "data": {
      "image/png": "[encoded data removed]",
      "text/plain": [
       "<Figure size 640x480 with 1 Axes>"
      ]
     },
     "metadata": {},
     "output_type": "display_data"
    }
   ],
   "source": [
    "sorted_idx = clf.feature_importances_.argsort()\n",
    "plt.barh(X.columns[sorted_idx], clf.feature_importances_[sorted_idx])\n",
    "plt.title(\"Feature Importance in making the predictions\")\n",
    "plt.tight_layout()\n"
   ]
  },
  {
   "cell_type": "code",
   "execution_count": 13,
   "id": "0b4fce8e",
   "metadata": {},
   "outputs": [
    {
     "data": {
      "text/plain": [
       ".values =\n",
       "array([[ 0.15848748, -0.03773237, -0.00893528, -0.00335849],\n",
       "       [-0.05558191, -0.0558773 , -0.02876917, -0.00323662],\n",
       "       [ 0.12132918,  0.06834508,  0.00320012, -0.00318787],\n",
       "       ...,\n",
       "       [ 0.03108893,  0.00337777,  0.00063123, -0.00340401],\n",
       "       [ 0.03108893,  0.00337777,  0.00063123, -0.00340401],\n",
       "       [-0.2879428 ,  0.01879776, -0.0585606 , -0.00246925]],\n",
       "      dtype=float32)\n",
       "\n",
       ".base_values =\n",
       "array([-1.8160251, -1.8160251, -1.8160251, ..., -1.8160251, -1.8160251,\n",
       "       -1.8160251], dtype=float32)\n",
       "\n",
       ".data =\n",
       "array([[48.0, False, nan, nan],\n",
       "       [41.0, False, nan, nan],\n",
       "       [32.0, False, nan, nan],\n",
       "       ...,\n",
       "       [37.0, False, nan, nan],\n",
       "       [37.0, False, nan, nan],\n",
       "       [36.0, False, nan, nan]], dtype=object)"
      ]
     },
     "execution_count": 13,
     "metadata": {},
     "output_type": "execute_result"
    }
   ],
   "source": [
    "# explain the model's predictions using SHAP\n",
    "# (same syntax works for LightGBM, CatBoost, scikit-learn, transformers, Spark, etc.)\n",
    "explainer = shap.Explainer(clf)\n",
    "# shap_values = explainer(X)\n",
    "shap_values = explainer(X_test)\n",
    "\n",
    "# visualize the first observation prediction's explanation\n",
    "shap.plots.waterfall(shap_values[0], max_display=20, show=False) \n",
    "\n",
    "shap_values"
   ]
  },
  {
   "cell_type": "code",
   "execution_count": 14,
   "id": "b7d3205b",
   "metadata": {},
   "outputs": [
    {
     "data": {
      "image/png": "[encoded data removed]",
      "text/plain": [
       "<Figure size 800x310 with 6 Axes>"
      ]
     },
     "metadata": {},
     "output_type": "display_data"
    }
   ],
   "source": [
    "shap.summary_plot(shap_values, X_test, show=False) \n",
    "\n",
    "plt.show()"
   ]
  },
  {
   "cell_type": "code",
   "execution_count": null,
   "id": "befe2536",
   "metadata": {},
   "outputs": [],
   "source": []
  },
  {
   "cell_type": "code",
   "execution_count": null,
   "id": "df1cb8b6",
   "metadata": {},
   "outputs": [],
   "source": []
  },
  {
   "cell_type": "code",
   "execution_count": null,
   "id": "6ad9abcd",
   "metadata": {},
   "outputs": [],
   "source": []
  },
  {
   "cell_type": "code",
   "execution_count": null,
   "id": "a3bf450c",
   "metadata": {},
   "outputs": [],
   "source": []
  },
  {
   "cell_type": "code",
   "execution_count": null,
   "id": "6dec4778",
   "metadata": {},
   "outputs": [],
   "source": []
  },
  {
   "cell_type": "code",
   "execution_count": null,
   "id": "21d1a51b",
   "metadata": {},
   "outputs": [],
   "source": []
  }
 ],
 "metadata": {
  "kernelspec": {
   "display_name": "Python 3 (ipykernel)",
   "language": "python",
   "name": "python3"
  },
  "language_info": {
   "codemirror_mode": {
    "name": "ipython",
    "version": 3
   },
   "file_extension": ".py",
   "mimetype": "text/x-python",
   "name": "python",
   "nbconvert_exporter": "python",
   "pygments_lexer": "ipython3",
   "version": "3.11.7"
  }
 },
 "nbformat": 4,
 "nbformat_minor": 5
}
